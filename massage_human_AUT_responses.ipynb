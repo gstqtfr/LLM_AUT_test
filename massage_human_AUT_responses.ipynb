{
 "cells": [
  {
   "cell_type": "code",
   "execution_count": 1,
   "id": "ceec25d1-1674-41af-b99b-24f51ce7a393",
   "metadata": {},
   "outputs": [],
   "source": [
    "import pandas as pd\n",
    "import numpy as np\n",
    "import csv\n",
    "from pathlib import Path"
   ]
  },
  {
   "cell_type": "code",
   "execution_count": 2,
   "id": "cde4fb63-5ebe-4c04-be65-0f8a9aa69335",
   "metadata": {},
   "outputs": [],
   "source": [
    "def read_and_process_and_export_human_AUT(input_file: str, output_file: str, dataset_directory: str, score: float=2., column: str='Responses') -> None:\n",
    "    data = Path(dataset_directory) / input_file\n",
    "\n",
    "    if not data.exists():\n",
    "        print(f\"cannot find {data}\")\n",
    "\n",
    "    df = pd.read_csv(data, sep='\\t')\n",
    "    df = df.fillna(0)\n",
    "    # filter out lower-valued data - this has been evaluated by human scoreres\n",
    "    df = df[df['average'] >= score]\n",
    "    # we've got rid of some data, so let's reset the index so we have a sensible ID\n",
    "    df = df.reset_index(drop=True)\n",
    "    # export this bad boy\n",
    "\n",
    "    output_dataset = Path(dataset_directory) / output_file\n",
    "    \n",
    "    df.to_csv(output_dataset, columns=[column], sep='\\t')\n",
    "    "
   ]
  },
  {
   "cell_type": "code",
   "execution_count": 3,
   "id": "d3626155-29ec-4829-9cd4-fb5f8869051a",
   "metadata": {},
   "outputs": [],
   "source": [
    "dataset_directory = \"/home/johnny/Documents/job-stuff/ElectricTwin/AUT-experiment1/LLM_AUT_test/human-responses\""
   ]
  },
  {
   "cell_type": "code",
   "execution_count": 4,
   "id": "551ade68-becd-468f-ad5d-44500d0e7d5c",
   "metadata": {},
   "outputs": [],
   "source": [
    "input_fnam = \"paperclip_AUT_dataset.csv\"\n",
    "output_fnam = \"paperclip_human_AUT_dataset.tsv\"\n",
    "\n",
    "read_and_process_and_export_human_AUT(input_file = input_fnam, \n",
    "                                      output_file = output_fnam, \n",
    "                                      dataset_directory=dataset_directory)\n"
   ]
  },
  {
   "cell_type": "code",
   "execution_count": 5,
   "id": "59af0bb9-a204-4183-8b9b-f9be19a7aea8",
   "metadata": {},
   "outputs": [],
   "source": [
    "input_fnam = \"bowl_AUT_dataset.csv\"\n",
    "output_fnam = \"bowl_human_AUT_dataset.tsv\"\n",
    "\n",
    "read_and_process_and_export_human_AUT(input_file = input_fnam, \n",
    "                                      output_file = output_fnam, \n",
    "                                      dataset_directory=dataset_directory)"
   ]
  },
  {
   "cell_type": "code",
   "execution_count": null,
   "id": "a71d2739-1e35-41ec-903c-940752261ea5",
   "metadata": {},
   "outputs": [],
   "source": []
  }
 ],
 "metadata": {
  "kernelspec": {
   "display_name": "Python 3 (ipykernel)",
   "language": "python",
   "name": "python3"
  },
  "language_info": {
   "codemirror_mode": {
    "name": "ipython",
    "version": 3
   },
   "file_extension": ".py",
   "mimetype": "text/x-python",
   "name": "python",
   "nbconvert_exporter": "python",
   "pygments_lexer": "ipython3",
   "version": "3.12.5"
  }
 },
 "nbformat": 4,
 "nbformat_minor": 5
}

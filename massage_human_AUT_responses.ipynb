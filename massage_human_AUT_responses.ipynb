{
 "cells": [
  {
   "cell_type": "code",
   "execution_count": 1,
   "id": "ceec25d1-1674-41af-b99b-24f51ce7a393",
   "metadata": {},
   "outputs": [],
   "source": [
    "import pandas as pd\n",
    "import numpy as np\n",
    "import csv\n",
    "from pathlib import Path"
   ]
  },
  {
   "cell_type": "code",
   "execution_count": 1,
   "id": "c5f9b22f-12fe-41f4-90e6-3ef2a0603b25",
   "metadata": {},
   "outputs": [
    {
     "name": "stdout",
     "output_type": "stream",
     "text": [
      "/home/johnny/Documents/job-stuff/ElectricTwin/AUT-experiment1/LLM_AUT_test\n"
     ]
    }
   ],
   "source": [
    "!pwd"
   ]
  },
  {
   "cell_type": "code",
   "execution_count": 2,
   "id": "cde4fb63-5ebe-4c04-be65-0f8a9aa69335",
   "metadata": {},
   "outputs": [],
   "source": [
    "def read_and_process_and_export_human_AUT(input_file: str, output_file: str, dataset_directory: str, score: float=2., column: str='Responses') -> None:\n",
    "    data = Path(dataset_directory) / input_file\n",
    "\n",
    "    if not data.exists():\n",
    "        print(f\"cannot find {data}\")\n",
    "\n",
    "    df = pd.read_csv(data, sep='\\t')\n",
    "    df = df.fillna(0)\n",
    "    # filter out lower-valued data - this has been evaluated by human scoreres\n",
    "    df = df[df['average'] >= score]\n",
    "    # we've got rid of some data, so let's reset the index so we have a sensible ID\n",
    "    df = df.reset_index(drop=True)\n",
    "    # export this bad boy\n",
    "\n",
    "    output_dataset = Path(dataset_directory) / output_file\n",
    "    \n",
    "    df.to_csv(output_dataset, columns=[column], sep='\\t')\n",
    "    "
   ]
  },
  {
   "cell_type": "code",
   "execution_count": 3,
   "id": "d3626155-29ec-4829-9cd4-fb5f8869051a",
   "metadata": {},
   "outputs": [],
   "source": [
    "dataset_directory = \"/home/johnny/Documents/job-stuff/ElectricTwin/AUT-experiment1/LLM_AUT_test/human-responses\""
   ]
  },
  {
   "cell_type": "code",
   "execution_count": 4,
   "id": "551ade68-becd-468f-ad5d-44500d0e7d5c",
   "metadata": {},
   "outputs": [],
   "source": [
    "paperclip_input_fnam = \"paperclip_AUT_dataset.csv\"\n",
    "paperclip_output_fnam = \"paperclip_human_AUT_dataset.tsv\"\n",
    "\n",
    "read_and_process_and_export_human_AUT(input_file = paperclip_input_fnam, \n",
    "                                      output_file = paperclip_output_fnam, \n",
    "                                      dataset_directory=dataset_directory)"
   ]
  },
  {
   "cell_type": "code",
   "execution_count": 5,
   "id": "59af0bb9-a204-4183-8b9b-f9be19a7aea8",
   "metadata": {},
   "outputs": [],
   "source": [
    "bowl_input_fnam = \"bowl_AUT_dataset.csv\"\n",
    "bowl_output_fnam = \"bowl_human_AUT_dataset.tsv\"\n",
    "\n",
    "read_and_process_and_export_human_AUT(input_file = bowl_input_fnam, \n",
    "                                      output_file = bowl_output_fnam, \n",
    "                                      dataset_directory=dataset_directory)"
   ]
  },
  {
   "cell_type": "markdown",
   "id": "69db72fb-4386-45ef-bb2e-6ccf8cb6398b",
   "metadata": {},
   "source": [
    "Now we need to create some input files for our evaluation LLM.\n",
    "\n",
    "We sample the human responses & create "
   ]
  },
  {
   "cell_type": "code",
   "execution_count": 6,
   "id": "a9123924-15ba-41da-b1e7-dd1396dde890",
   "metadata": {},
   "outputs": [],
   "source": [
    "d = Path(dataset_directory)\n",
    "paperclip_input_fnam = d / paperclip_output_fnam"
   ]
  },
  {
   "cell_type": "code",
   "execution_count": 7,
   "id": "56c0b256-1761-4d1a-8596-df682eefc032",
   "metadata": {},
   "outputs": [
    {
     "data": {
      "text/plain": [
       "PosixPath('/home/johnny/Documents/job-stuff/ElectricTwin/AUT-experiment1/LLM_AUT_test/human-responses/paperclip_human_AUT_dataset.tsv')"
      ]
     },
     "execution_count": 7,
     "metadata": {},
     "output_type": "execute_result"
    }
   ],
   "source": [
    "paperclip_input_fnam"
   ]
  },
  {
   "cell_type": "code",
   "execution_count": 8,
   "id": "386f649d-413e-441f-b8cd-ebe67deb8585",
   "metadata": {},
   "outputs": [],
   "source": [
    "paperclip_df = pd.read_csv(paperclip_input_fnam, sep='\\t')"
   ]
  },
  {
   "cell_type": "code",
   "execution_count": 19,
   "id": "7a1cc60d-3e82-4b9e-91de-a8c50045d0e1",
   "metadata": {},
   "outputs": [],
   "source": [
    "#paperclip_df"
   ]
  },
  {
   "cell_type": "code",
   "execution_count": 20,
   "id": "4c3ec7de-a0ad-446f-8329-550639341ca8",
   "metadata": {},
   "outputs": [],
   "source": [
    "bowl_input_fnam = d / bowl_output_fnam"
   ]
  },
  {
   "cell_type": "code",
   "execution_count": 21,
   "id": "ce18024c-696f-472e-b9a0-ebe7bc5dcbc1",
   "metadata": {},
   "outputs": [
    {
     "data": {
      "text/plain": [
       "PosixPath('/home/johnny/Documents/job-stuff/ElectricTwin/AUT-experiment1/LLM_AUT_test/human-responses/bowl_human_AUT_dataset.tsv')"
      ]
     },
     "execution_count": 21,
     "metadata": {},
     "output_type": "execute_result"
    }
   ],
   "source": [
    "bowl_input_fnam"
   ]
  },
  {
   "cell_type": "code",
   "execution_count": 22,
   "id": "5bae4528-70e8-4fdf-a10e-fb78adcedaad",
   "metadata": {},
   "outputs": [],
   "source": [
    "bowl_df = pd.read_csv(bowl_input_fnam, sep='\\t')"
   ]
  },
  {
   "cell_type": "code",
   "execution_count": 23,
   "id": "4e7bdbcb-a72f-420e-a7f7-54f0499dacbe",
   "metadata": {},
   "outputs": [
    {
     "data": {
      "text/html": [
       "<div>\n",
       "<style scoped>\n",
       "    .dataframe tbody tr th:only-of-type {\n",
       "        vertical-align: middle;\n",
       "    }\n",
       "\n",
       "    .dataframe tbody tr th {\n",
       "        vertical-align: top;\n",
       "    }\n",
       "\n",
       "    .dataframe thead th {\n",
       "        text-align: right;\n",
       "    }\n",
       "</style>\n",
       "<table border=\"1\" class=\"dataframe\">\n",
       "  <thead>\n",
       "    <tr style=\"text-align: right;\">\n",
       "      <th></th>\n",
       "      <th>Unnamed: 0</th>\n",
       "      <th>Responses</th>\n",
       "    </tr>\n",
       "  </thead>\n",
       "  <tbody>\n",
       "    <tr>\n",
       "      <th>0</th>\n",
       "      <td>0</td>\n",
       "      <td>put phone inside it to amplify the sound</td>\n",
       "    </tr>\n",
       "    <tr>\n",
       "      <th>1</th>\n",
       "      <td>1</td>\n",
       "      <td>trap spider</td>\n",
       "    </tr>\n",
       "    <tr>\n",
       "      <th>2</th>\n",
       "      <td>2</td>\n",
       "      <td>giving a haricut</td>\n",
       "    </tr>\n",
       "    <tr>\n",
       "      <th>3</th>\n",
       "      <td>3</td>\n",
       "      <td>wear it as a hat</td>\n",
       "    </tr>\n",
       "    <tr>\n",
       "      <th>4</th>\n",
       "      <td>4</td>\n",
       "      <td>haircut template</td>\n",
       "    </tr>\n",
       "  </tbody>\n",
       "</table>\n",
       "</div>"
      ],
      "text/plain": [
       "   Unnamed: 0                                 Responses\n",
       "0           0  put phone inside it to amplify the sound\n",
       "1           1                               trap spider\n",
       "2           2                          giving a haricut\n",
       "3           3                          wear it as a hat\n",
       "4           4                          haircut template"
      ]
     },
     "execution_count": 23,
     "metadata": {},
     "output_type": "execute_result"
    }
   ],
   "source": [
    "bowl_df.head()"
   ]
  },
  {
   "cell_type": "code",
   "execution_count": 10,
   "id": "4dfc28e7-79a9-4f2f-b897-6a70536cea59",
   "metadata": {},
   "outputs": [],
   "source": [
    "sample_sz = 40\n",
    "sample_df = paperclip_df.sample(n=sample_sz, random_state=21)"
   ]
  },
  {
   "cell_type": "code",
   "execution_count": 11,
   "id": "7d215965-1377-48e6-9fc9-c6e0d6065de4",
   "metadata": {},
   "outputs": [
    {
     "data": {
      "text/html": [
       "<div>\n",
       "<style scoped>\n",
       "    .dataframe tbody tr th:only-of-type {\n",
       "        vertical-align: middle;\n",
       "    }\n",
       "\n",
       "    .dataframe tbody tr th {\n",
       "        vertical-align: top;\n",
       "    }\n",
       "\n",
       "    .dataframe thead th {\n",
       "        text-align: right;\n",
       "    }\n",
       "</style>\n",
       "<table border=\"1\" class=\"dataframe\">\n",
       "  <thead>\n",
       "    <tr style=\"text-align: right;\">\n",
       "      <th></th>\n",
       "      <th>Unnamed: 0</th>\n",
       "      <th>Responses</th>\n",
       "    </tr>\n",
       "  </thead>\n",
       "  <tbody>\n",
       "    <tr>\n",
       "      <th>326</th>\n",
       "      <td>326</td>\n",
       "      <td>as a makeshift filament</td>\n",
       "    </tr>\n",
       "    <tr>\n",
       "      <th>265</th>\n",
       "      <td>265</td>\n",
       "      <td>to make bubbles</td>\n",
       "    </tr>\n",
       "    <tr>\n",
       "      <th>72</th>\n",
       "      <td>72</td>\n",
       "      <td>clean shallow drain</td>\n",
       "    </tr>\n",
       "    <tr>\n",
       "      <th>47</th>\n",
       "      <td>47</td>\n",
       "      <td>use it as an electrical conductor</td>\n",
       "    </tr>\n",
       "    <tr>\n",
       "      <th>288</th>\n",
       "      <td>288</td>\n",
       "      <td>heat it to feel how hot metal feels like</td>\n",
       "    </tr>\n",
       "  </tbody>\n",
       "</table>\n",
       "</div>"
      ],
      "text/plain": [
       "     Unnamed: 0                                 Responses\n",
       "326         326                   as a makeshift filament\n",
       "265         265                           to make bubbles\n",
       "72           72                       clean shallow drain\n",
       "47           47         use it as an electrical conductor\n",
       "288         288  heat it to feel how hot metal feels like"
      ]
     },
     "execution_count": 11,
     "metadata": {},
     "output_type": "execute_result"
    }
   ],
   "source": [
    "sample_df.head()"
   ]
  },
  {
   "cell_type": "code",
   "execution_count": 12,
   "id": "94581394-414e-469d-9123-f8cbacc2b046",
   "metadata": {},
   "outputs": [],
   "source": [
    "def create_samples(df, n=40, random_state=21):\n",
    "    \"\"\"Sample from the dataframe until we run out of rows.\"\"\"\n",
    "    sample_df = df.sample(n=sample_sz, random_state=random_state)\n",
    "    df = df.loc[~df.index.isin(sample_df.index)]\n",
    "    return df, sample_df "
   ]
  },
  {
   "cell_type": "code",
   "execution_count": 13,
   "id": "d600dfeb-9f3c-448c-97d8-d371b7e94e80",
   "metadata": {},
   "outputs": [],
   "source": [
    "rest_of_the_data_df, thingfish_df = create_samples(paperclip_df)"
   ]
  },
  {
   "cell_type": "code",
   "execution_count": 14,
   "id": "03f1892b-b753-401e-a113-e223d6bbef2b",
   "metadata": {},
   "outputs": [
    {
     "data": {
      "text/plain": [
       "Unnamed: 0    40\n",
       "Responses     40\n",
       "dtype: int64"
      ]
     },
     "execution_count": 14,
     "metadata": {},
     "output_type": "execute_result"
    }
   ],
   "source": [
    "thingfish_df.count()"
   ]
  },
  {
   "cell_type": "code",
   "execution_count": 15,
   "id": "4f61c569-4afc-4ffa-b4fb-eab77a751541",
   "metadata": {},
   "outputs": [
    {
     "data": {
      "text/plain": [
       "374"
      ]
     },
     "execution_count": 15,
     "metadata": {},
     "output_type": "execute_result"
    }
   ],
   "source": [
    "rest_of_the_data_df.shape[0]"
   ]
  },
  {
   "cell_type": "code",
   "execution_count": 16,
   "id": "751ae5af-0319-4e82-9b72-499340bfb346",
   "metadata": {},
   "outputs": [],
   "source": [
    "# code's a bit messy, but it's not going to be used more than a couple of times\n",
    "import csv\n",
    "\n",
    "def output_to_csv(df, file, field='Responses'):\n",
    "    fields = df[field].to_list()\n",
    "    with open(file, 'w') as tsvfile:\n",
    "        for r in fields:\n",
    "            tsvfile.write(f\"{r}\\n\")"
   ]
  },
  {
   "cell_type": "code",
   "execution_count": 17,
   "id": "570eecfc-d5a7-4429-bce9-93e7c436d959",
   "metadata": {},
   "outputs": [
    {
     "name": "stdout",
     "output_type": "stream",
     "text": [
      "Rows remaining: 374\n",
      "Rows remaining: 334\n",
      "Rows remaining: 294\n",
      "Rows remaining: 254\n",
      "Rows remaining: 214\n",
      "Rows remaining: 174\n",
      "Rows remaining: 134\n",
      "Rows remaining: 94\n",
      "Rows remaining: 54\n",
      "Rows remaining: 14\n"
     ]
    }
   ],
   "source": [
    "i = 1\n",
    "paperclip_copy_df = paperclip_df.copy()\n",
    "\n",
    "while paperclip_copy_df.shape[0] >= sample_sz:\n",
    "    paperclip_copy_df, sample_df = create_samples(paperclip_copy_df)\n",
    "    human_paperclip_input_fnam = d / f\"paperclip_human_{i}.tsv\"\n",
    "    #sample_df.to_csv(human_paperclip_input_fnam, sep='\\t')\n",
    "    output_to_csv(df=sample_df, file=human_paperclip_input_fnam, field='Responses')\n",
    "    print(f\"Rows remaining: {paperclip_copy_df.shape[0]}\")\n",
    "    i = i + 1\n",
    "\n",
    "#paperclip_copy_df.to_csv(human_paperclip_input_fnam, sep='\\t')\n",
    "human_paperclip_input_fnam = d / f\"paperclip_human_{i}.tsv\"\n",
    "output_to_csv(df=paperclip_copy_df, file=human_paperclip_input_fnam, field='Responses')"
   ]
  },
  {
   "cell_type": "code",
   "execution_count": null,
   "id": "f31ca70e-372b-4a4a-b31a-0212401e478f",
   "metadata": {},
   "outputs": [],
   "source": []
  },
  {
   "cell_type": "code",
   "execution_count": 24,
   "id": "452d4463-210e-4232-9288-f07bb1e61fc5",
   "metadata": {},
   "outputs": [
    {
     "name": "stdout",
     "output_type": "stream",
     "text": [
      "Rows remaining: 511\n",
      "Rows remaining: 471\n",
      "Rows remaining: 431\n",
      "Rows remaining: 391\n",
      "Rows remaining: 351\n",
      "Rows remaining: 311\n",
      "Rows remaining: 271\n",
      "Rows remaining: 231\n",
      "Rows remaining: 191\n",
      "Rows remaining: 151\n",
      "Rows remaining: 111\n",
      "Rows remaining: 71\n",
      "Rows remaining: 31\n"
     ]
    }
   ],
   "source": [
    "i = 1\n",
    "bowl_copy_df = bowl_df.copy()\n",
    "\n",
    "while bowl_copy_df.shape[0] >= sample_sz:\n",
    "    bowl_copy_df, sample_df = create_samples(bowl_copy_df)\n",
    "    human_bowl_input_fnam = d / f\"bowl_human_{i}.tsv\"\n",
    "    #sample_df.to_csv(human_bowl_input_fnam, sep='\\t')\n",
    "    output_to_csv(df=sample_df, file=human_bowl_input_fnam, field='Responses')\n",
    "    print(f\"Rows remaining: {bowl_copy_df.shape[0]}\")\n",
    "    i = i + 1\n",
    "\n",
    "#bowl_copy_df.to_csv(human_bowl_input_fnam, sep='\\t')\n",
    "human_bowl_input_fnam = d / f\"bowl_human_{i}.tsv\"\n",
    "output_to_csv(df=bowl_copy_df, file=human_bowl_input_fnam, field='Responses')"
   ]
  },
  {
   "cell_type": "code",
   "execution_count": null,
   "id": "2535bbbd-dbee-442a-81a8-d44a67e168e0",
   "metadata": {},
   "outputs": [],
   "source": []
  },
  {
   "cell_type": "code",
   "execution_count": null,
   "id": "275638ae-6617-4bde-b48a-14a3c266c4d7",
   "metadata": {},
   "outputs": [],
   "source": []
  },
  {
   "cell_type": "code",
   "execution_count": null,
   "id": "734d3acf-1703-414a-98b3-62964f6ac9bf",
   "metadata": {},
   "outputs": [],
   "source": []
  }
 ],
 "metadata": {
  "kernelspec": {
   "display_name": "Python 3 (ipykernel)",
   "language": "python",
   "name": "python3"
  },
  "language_info": {
   "codemirror_mode": {
    "name": "ipython",
    "version": 3
   },
   "file_extension": ".py",
   "mimetype": "text/x-python",
   "name": "python",
   "nbconvert_exporter": "python",
   "pygments_lexer": "ipython3",
   "version": "3.12.6"
  }
 },
 "nbformat": 4,
 "nbformat_minor": 5
}
